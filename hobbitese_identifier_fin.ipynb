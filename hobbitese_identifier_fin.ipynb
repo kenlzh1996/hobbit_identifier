{
 "cells": [
  {
   "cell_type": "code",
   "execution_count": null,
   "id": "526420f1",
   "metadata": {},
   "outputs": [],
   "source": [
    "from fastai.vision.all import *\n",
    "from fastai.vision.widgets import *"
   ]
  },
  {
   "cell_type": "markdown",
   "id": "a0b204ca",
   "metadata": {},
   "source": [
    "# The Amazing Hobbit Identifier!\n",
    "People that have prosopagnosia aka face blindness, may have a hard time on recognizing similar faces. After binge-watching 12 hours of *the Lord of the Rings*, I personally still have difficulties identifying the hobbitese. Take a pic of the hobbit that you are confused with, and click 'upload' to classify it. (Important: this only handles Frodo, Sam, Pippin and Merry. It will not give a sensible answer for Elves, Men, Dwarves, other Hobbits, Ents, Orcs and Trolls."
   ]
  },
  {
   "cell_type": "code",
   "execution_count": null,
   "id": "b2a8a486",
   "metadata": {},
   "outputs": [],
   "source": [
    "path = Path()\n",
    "learn_inf = load_learner(path/'export.pkl', cpu=True)\n",
    "btn_upload = widgets.FileUpload()\n",
    "out_pl = widgets.Output()\n",
    "lbl_pred = widgets.Label()"
   ]
  },
  {
   "cell_type": "code",
   "execution_count": null,
   "id": "e074edf5",
   "metadata": {},
   "outputs": [],
   "source": [
    "def on_data_change(change):\n",
    "    lbl_pred.value = ''\n",
    "    img = PILImage.create(btn_upload.data[-1])\n",
    "    out_pl.clear_output()\n",
    "    with out_pl: display(img.to_thumb(128,128))\n",
    "    pred,pred_idx,probs = learn_inf.predict(img)\n",
    "    lbl_pred.value = f'Prediction: {pred}; Probability: {probs[pred_idx]:.04f}'"
   ]
  },
  {
   "cell_type": "code",
   "execution_count": null,
   "id": "3c2ad109",
   "metadata": {},
   "outputs": [],
   "source": [
    "btn_upload.observe(on_data_change, names=['data'])"
   ]
  },
  {
   "cell_type": "code",
   "execution_count": null,
   "id": "e27a97fe",
   "metadata": {},
   "outputs": [],
   "source": [
    "display(VBox([widgets.Label('Identify your hobbitese!'), btn_upload, out_pl, lbl_pred]))"
   ]
  },
  {
   "cell_type": "code",
   "execution_count": null,
   "id": "d0436541",
   "metadata": {},
   "outputs": [],
   "source": []
  }
 ],
 "metadata": {
  "kernelspec": {
   "display_name": "Python 3 (ipykernel)",
   "language": "python",
   "name": "python3"
  },
  "language_info": {
   "codemirror_mode": {
    "name": "ipython",
    "version": 3
   },
   "file_extension": ".py",
   "mimetype": "text/x-python",
   "name": "python",
   "nbconvert_exporter": "python",
   "pygments_lexer": "ipython3",
   "version": "3.7.11"
  }
 },
 "nbformat": 4,
 "nbformat_minor": 5
}
